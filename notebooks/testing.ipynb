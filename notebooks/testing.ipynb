{
 "cells": [
  {
   "cell_type": "code",
   "execution_count": 1,
   "metadata": {},
   "outputs": [],
   "source": [
    "import torch.optim as optim\n",
    "from torch import nn\n",
    "import os"
   ]
  },
  {
   "cell_type": "code",
   "execution_count": 2,
   "metadata": {},
   "outputs": [],
   "source": [
    "from softmax import FashionMNIST, SoftmaxRegression, train, validate"
   ]
  },
  {
   "cell_type": "code",
   "execution_count": 3,
   "metadata": {},
   "outputs": [
    {
     "name": "stderr",
     "output_type": "stream",
     "text": [
      "/home/jmendoza/rnns-project/.venv/lib/python3.10/site-packages/torch/nn/modules/lazy.py:180: UserWarning: Lazy modules are a new feature under heavy development so changes to the API or functionality can happen at any moment.\n",
      "  warnings.warn('Lazy modules are a new feature under heavy development '\n"
     ]
    }
   ],
   "source": [
    "learning_rate = 1e-2\n",
    "num_workers = os.cpu_count()\n",
    "\n",
    "model = SoftmaxRegression(num_outputs=10)\n",
    "optimizer = optim.Adam(model.parameters(), lr=learning_rate)\n",
    "loss_fn = nn.NLLLoss()"
   ]
  },
  {
   "cell_type": "code",
   "execution_count": 4,
   "metadata": {},
   "outputs": [],
   "source": [
    "data_loader = FashionMNIST(batch_size=2048)\n",
    "train_loader = data_loader.get_dataloader(train=True, num_workers=num_workers)\n",
    "val_loader = data_loader.get_dataloader(train=False, num_workers=num_workers)"
   ]
  },
  {
   "cell_type": "code",
   "execution_count": 5,
   "metadata": {},
   "outputs": [
    {
     "name": "stdout",
     "output_type": "stream",
     "text": [
      "Training on cuda\n",
      "2024-11-07 21:07:30.419724 - Epoch 0 - Training loss: 0.9377088586489359\n",
      "2024-11-07 21:07:52.099698 - Epoch 10 - Training loss: 0.412323401371638\n",
      "2024-11-07 21:08:17.010176 - Epoch 20 - Training loss: 0.3872075061003367\n",
      "2024-11-07 21:08:43.055014 - Epoch 30 - Training loss: 0.3765222479899724\n",
      "2024-11-07 21:09:09.339519 - Epoch 40 - Training loss: 0.3705282231171926\n",
      "2024-11-07 21:09:36.252412 - Epoch 50 - Training loss: 0.36727553606033325\n",
      "2024-11-07 21:10:01.664253 - Epoch 60 - Training loss: 0.35932430823644\n",
      "2024-11-07 21:10:26.964494 - Epoch 70 - Training loss: 0.3569244196017583\n",
      "2024-11-07 21:10:52.407391 - Epoch 80 - Training loss: 0.36028114954630536\n",
      "2024-11-07 21:11:17.798793 - Epoch 90 - Training loss: 0.3560190757115682\n",
      "2024-11-07 21:11:42.496217 - Epoch 100 - Training loss: 0.3574869424104691\n",
      "2024-11-07 21:12:07.972677 - Epoch 110 - Training loss: 0.35142308672269185\n",
      "2024-11-07 21:12:33.177470 - Epoch 120 - Training loss: 0.35193892419338224\n",
      "2024-11-07 21:12:58.424794 - Epoch 130 - Training loss: 0.34378383855024974\n",
      "2024-11-07 21:13:24.392762 - Epoch 140 - Training loss: 0.35055036743481954\n",
      "2024-11-07 21:13:49.337127 - Epoch 150 - Training loss: 0.34491143425305687\n",
      "2024-11-07 21:14:14.648560 - Epoch 160 - Training loss: 0.3428981155157089\n",
      "2024-11-07 21:14:40.362668 - Epoch 170 - Training loss: 0.3414558390776316\n",
      "2024-11-07 21:15:04.906596 - Epoch 180 - Training loss: 0.340256076057752\n",
      "2024-11-07 21:15:29.873805 - Epoch 190 - Training loss: 0.33943357368310295\n"
     ]
    }
   ],
   "source": [
    "train(\n",
    "    n_epochs=200,\n",
    "    optimizer=optimizer,\n",
    "    model=model,\n",
    "    loss_fn=loss_fn,\n",
    "    train_loader=train_loader,\n",
    ")"
   ]
  },
  {
   "cell_type": "code",
   "execution_count": 6,
   "metadata": {},
   "outputs": [
    {
     "name": "stdout",
     "output_type": "stream",
     "text": [
      "Validation on cuda\n",
      "Accuracy train: 0.8824666666666666\n",
      "Accuracy val: 0.8425\n"
     ]
    }
   ],
   "source": [
    "validate(model, train_loader, val_loader)"
   ]
  }
 ],
 "metadata": {
  "kernelspec": {
   "display_name": ".venv",
   "language": "python",
   "name": "python3"
  },
  "language_info": {
   "codemirror_mode": {
    "name": "ipython",
    "version": 3
   },
   "file_extension": ".py",
   "mimetype": "text/x-python",
   "name": "python",
   "nbconvert_exporter": "python",
   "pygments_lexer": "ipython3",
   "version": "3.10.12"
  }
 },
 "nbformat": 4,
 "nbformat_minor": 2
}
